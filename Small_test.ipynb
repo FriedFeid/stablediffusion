{
 "cells": [
  {
   "cell_type": "code",
   "execution_count": 2,
   "metadata": {},
   "outputs": [
    {
     "name": "stderr",
     "output_type": "stream",
     "text": [
      "/export/home/ffeiden/miniconda3/envs/ldm/lib/python3.8/site-packages/tqdm/auto.py:21: TqdmWarning: IProgress not found. Please update jupyter and ipywidgets. See https://ipywidgets.readthedocs.io/en/stable/user_install.html\n",
      "  from .autonotebook import tqdm as notebook_tqdm\n"
     ]
    }
   ],
   "source": [
    "import numpy as np \n",
    "import torch \n"
   ]
  },
  {
   "cell_type": "code",
   "execution_count": 3,
   "metadata": {},
   "outputs": [
    {
     "name": "stdout",
     "output_type": "stream",
     "text": [
      "[2, 2, 2, 2]\n"
     ]
    }
   ],
   "source": [
    "channel_mult = [1, 2, 4, 4]\n",
    "num_res_blocks = 2\n",
    "num_res_blocks = len(channel_mult) * [num_res_blocks]\n",
    "print(num_res_blocks)"
   ]
  },
  {
   "cell_type": "code",
   "execution_count": 8,
   "metadata": {},
   "outputs": [
    {
     "name": "stdout",
     "output_type": "stream",
     "text": [
      "Conv2D: in: 4, out: 320, kernel: 3, padding: 1\n",
      "['ResBlock: Chan: 320, time_embd_dim: 1280; dropout: 0; out_chan: 320; scale_shift_norm: False', 'SpacialTransformer: ch: 320; n_head: 5; n_head_ch: 64, depth: 1, context_dim: 1024, disable_selfAtt: False, use_linear: True']\n",
      "Downsample: Chans: 320; conv_resample: True; out_chans: 320\n",
      "['ResBlock: Chan: 320, time_embd_dim: 1280; dropout: 0; out_chan: 320; scale_shift_norm: False', 'SpacialTransformer: ch: 320; n_head: 5; n_head_ch: 64, depth: 1, context_dim: 1024, disable_selfAtt: False, use_linear: True']\n",
      "Downsample: Chans: 320; conv_resample: True; out_chans: 320\n",
      "['ResBlock: Chan: 320, time_embd_dim: 1280; dropout: 0; out_chan: 640; scale_shift_norm: False', 'SpacialTransformer: ch: 640; n_head: 10; n_head_ch: 64, depth: 1, context_dim: 1024, disable_selfAtt: False, use_linear: True']\n",
      "Downsample: Chans: 640; conv_resample: True; out_chans: 640\n",
      "['ResBlock: Chan: 640, time_embd_dim: 1280; dropout: 0; out_chan: 640; scale_shift_norm: False', 'SpacialTransformer: ch: 640; n_head: 10; n_head_ch: 64, depth: 1, context_dim: 1024, disable_selfAtt: False, use_linear: True']\n",
      "Downsample: Chans: 640; conv_resample: True; out_chans: 640\n",
      "['ResBlock: Chan: 640, time_embd_dim: 1280; dropout: 0; out_chan: 1280; scale_shift_norm: False', 'SpacialTransformer: ch: 1280; n_head: 10; n_head_ch: 64, depth: 1, context_dim: 1024, disable_selfAtt: False, use_linear: True']\n",
      "Downsample: Chans: 1280; conv_resample: True; out_chans: 1280\n",
      "['ResBlock: Chan: 1280, time_embd_dim: 1280; dropout: 0; out_chan: 1280; scale_shift_norm: False', 'SpacialTransformer: ch: 1280; n_head: 10; n_head_ch: 64, depth: 1, context_dim: 1024, disable_selfAtt: False, use_linear: True']\n",
      "Downsample: Chans: 1280; conv_resample: True; out_chans: 1280\n",
      "['ResBlock: Chan: 1280, time_embd_dim: 1280; dropout: 0; out_chan: 1280; scale_shift_norm: False', 'SpacialTransformer: ch: 1280; n_head: 10; n_head_ch: 64, depth: 1, context_dim: 1024, disable_selfAtt: False, use_linear: True']\n",
      "['ResBlock: Chan: 1280, time_embd_dim: 1280; dropout: 0; out_chan: 1280; scale_shift_norm: False', 'SpacialTransformer: ch: 1280; n_head: 10; n_head_ch: 64, depth: 1, context_dim: 1024, disable_selfAtt: False, use_linear: True']\n"
     ]
    }
   ],
   "source": [
    "model_channels = 320\n",
    "num_res_blocks = [2, 2, 2, 2]\n",
    "attention_resolution = [ 4, 2, 1 ]\n",
    "num_head_channels = 64\n",
    "context_dim = 1_024\n",
    "\n",
    "input_blocks = ['Conv2D: in: 4, out: 320, kernel: 3, padding: 1']\n",
    "\n",
    "feature_size = model_channels\n",
    "input_block_chans = [model_channels]\n",
    "ch = model_channels\n",
    "ds = 1\n",
    "for level, mult in enumerate(channel_mult):\n",
    "    for nr in range(num_res_blocks[level]):\n",
    "        layers =[ f'ResBlock: Chan: {ch}, time_embd_dim: 1280; dropout: 0; out_chan: {mult * model_channels}; scale_shift_norm: False']\n",
    "        \n",
    "        ch = mult * model_channels\n",
    "        if ds in attention_resolution: \n",
    "            num_heads = ch // num_head_channels\n",
    "            dim_head = num_head_channels\n",
    "\n",
    "        layers.append( (f'AttentionBlock: Chan: {ch}; n_head: {num_heads}; n_head_ch: {num_head_channels}'\n",
    "                        ) if not True else (f'SpacialTransformer: ch: {ch}; n_head: {num_heads}; n_head_ch: {num_head_channels}, depth: 1, context_dim: {context_dim}, disable_selfAtt: False, use_linear: True'))\n",
    "        \n",
    "        input_blocks.append(layers)\n",
    "        feature_size += ch\n",
    "        input_block_chans.append(ch)\n",
    "\n",
    "        if level != len(channel_mult) -1 : \n",
    "            out_ch = ch \n",
    "            input_blocks.append(f'ResBlock: Chan: {ch}, time_embd_dim: 1280; dropout: 0; out_chan: {out_ch}; scale_shift_norm: False; down: True' if False \n",
    "                                else f'Downsample: Chans: {ch}; conv_resample: True; out_chans: {out_ch}')\n",
    "        \n",
    "            ch = out_ch\n",
    "            input_block_chans.append(ch)\n",
    "            ds *=2\n",
    "            feature_size += ch\n",
    "\n",
    "for str in input_blocks: \n",
    "    print(str)"
   ]
  },
  {
   "attachments": {},
   "cell_type": "markdown",
   "metadata": {},
   "source": []
  },
  {
   "attachments": {},
   "cell_type": "markdown",
   "metadata": {},
   "source": []
  },
  {
   "cell_type": "code",
   "execution_count": null,
   "metadata": {},
   "outputs": [],
   "source": []
  }
 ],
 "metadata": {
  "kernelspec": {
   "display_name": "ldm",
   "language": "python",
   "name": "python3"
  },
  "language_info": {
   "codemirror_mode": {
    "name": "ipython",
    "version": 3
   },
   "file_extension": ".py",
   "mimetype": "text/x-python",
   "name": "python",
   "nbconvert_exporter": "python",
   "pygments_lexer": "ipython3",
   "version": "3.8.5"
  },
  "orig_nbformat": 4
 },
 "nbformat": 4,
 "nbformat_minor": 2
}
